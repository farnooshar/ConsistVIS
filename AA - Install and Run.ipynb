{
 "cells": [
  {
   "cell_type": "code",
   "execution_count": null,
   "id": "5bc56a89-4d1c-4cde-8b95-b46ccf2b1775",
   "metadata": {},
   "outputs": [],
   "source": [
    "Package:\n",
    "    Name: torch\n",
    "    Version: 1.9.1+cu111\n",
    "    Summary: Tensors and Dynamic neural networks in Python with strong GPU acceleration\n",
    "    Home-page: https://pytorch.org/\n",
    "    Author: PyTorch Team\n",
    "    Author-email: packages@pytorch.org\n",
    "    License: BSD-3\n",
    "    Location: /home/user01/miniconda3/envs/crossvis/lib/python3.7/site-packages\n",
    "    Requires: typing-extensions\n",
    "    Required-by: accelerate, denoising-diffusion-pytorch, ema-pytorch, pytorch-fid, timm, torchvision\n",
    " \n",
    "GPU: NVIDIA 3090-TI 24GB"
   ]
  },
  {
   "cell_type": "code",
   "execution_count": null,
   "id": "9e96ffb1-a081-4464-8960-888de9e0c799",
   "metadata": {},
   "outputs": [],
   "source": [
    "#Inference"
   ]
  },
  {
   "cell_type": "code",
   "execution_count": null,
   "id": "ac8fbc37-42bf-4e31-bd31-01ba6cbded1a",
   "metadata": {},
   "outputs": [],
   "source": [
    "#R50\n",
    "\n",
    "!CUDA_VISIBLE_DEVICES=0 python test.py --num-gpus 1 --resume --dist-url tcp://0.0.0.0:12349\\\n",
    "\t--config-file configs/Step3/youtubevis_2019/video_maskformer2_R50_bs16_8ep.yaml\\\n",
    "        --eval-only MODEL.WEIGHTS our_model/Our_R50.pth"
   ]
  },
  {
   "cell_type": "code",
   "execution_count": null,
   "id": "23a44aff-4699-4410-bc9c-65c55ca5161a",
   "metadata": {},
   "outputs": [],
   "source": [
    "#R101\n",
    "\n",
    "!CUDA_VISIBLE_DEVICES=0 python test.py --num-gpus 1 --resume --dist-url tcp://0.0.0.0:12349\\\n",
    "\t--config-file configs/Step3/youtubevis_2019/video_maskformer2_R101_bs16_8ep.yaml\\\n",
    "        --eval-only MODEL.WEIGHTS our_model/Our_R101.pth"
   ]
  },
  {
   "cell_type": "code",
   "execution_count": null,
   "id": "831c3a1f-08fc-4104-8b7b-32b5b2380af7",
   "metadata": {},
   "outputs": [],
   "source": [
    "#SwinL\n",
    "\n",
    "!CUDA_VISIBLE_DEVICES=0 python test.py --num-gpus 1 --resume --dist-url tcp://0.0.0.0:12349\\\n",
    "\t--config-file configs/Step3/youtubevis_2019/swin/video_maskformer2_swin_large_IN21k_384_bs16_8ep.yaml\\\n",
    "        --eval-only MODEL.WEIGHTS our_model/Our_SwinL.pth"
   ]
  },
  {
   "cell_type": "code",
   "execution_count": null,
   "id": "c6713ae3-261a-43e0-b45b-d2b1188ebbe7",
   "metadata": {},
   "outputs": [],
   "source": [
    "#Train\n",
    "#You can edit myconfig.txt for alpha and beta\n",
    "#You can also use mask2former_video/video_maskformer_model_param.py for another configureation."
   ]
  },
  {
   "cell_type": "code",
   "execution_count": null,
   "id": "1d6083e1-6d03-462e-ba9c-bf7fe255c959",
   "metadata": {},
   "outputs": [],
   "source": [
    "#R50\n",
    "#2400< iter is good.\n",
    "#alpha = 1.2 abd beta = 2.0\n",
    "\n",
    "!CUDA_VISIBLE_DEVICES=0 python3 train_net_video_r50_s3.py --num-gpus 1 --resume --dist-url tcp://0.0.0.0:12349\\\n",
    "\t--config-file configs/Step3/youtubevis_2019/video_maskformer2_R50_bs16_8ep.yaml"
   ]
  },
  {
   "cell_type": "code",
   "execution_count": null,
   "id": "bcaed1f5-9547-4651-ad88-6212e0dd8364",
   "metadata": {},
   "outputs": [],
   "source": [
    "#R101\n",
    "#2700< iter is good.\n",
    "#alpha = 1.0 abd beta = 1.2\n",
    "!CUDA_VISIBLE_DEVICES=0 python3 train_net_video_r101_s3.py --num-gpus 1 --resume --dist-url tcp://0.0.0.0:12349\\\n",
    "\t--config-file configs/Step3/youtubevis_2019/video_maskformer2_R101_bs16_8ep.yaml "
   ]
  },
  {
   "cell_type": "code",
   "execution_count": null,
   "id": "9c4b780f-2a52-43d6-b05d-2605b660db10",
   "metadata": {},
   "outputs": [],
   "source": [
    "#SwinL\n",
    "#2500< iter is good.\n",
    "#alpha = 1.0 abd beta = 1.2\n",
    "!CUDA_VISIBLE_DEVICES=0 python3 train_net_video_SwinL_s3.py --num-gpus 1 --resume --dist-url tcp://0.0.0.0:12349\\\n",
    "\t--config-file configs/Step3/youtubevis_2019/swin/video_maskformer2_swin_large_IN21k_384_bs16_8ep.yaml "
   ]
  }
 ],
 "metadata": {
  "kernelspec": {
   "display_name": "Python 3 (ipykernel)",
   "language": "python",
   "name": "python3"
  },
  "language_info": {
   "codemirror_mode": {
    "name": "ipython",
    "version": 3
   },
   "file_extension": ".py",
   "mimetype": "text/x-python",
   "name": "python",
   "nbconvert_exporter": "python",
   "pygments_lexer": "ipython3",
   "version": "3.7.12"
  }
 },
 "nbformat": 4,
 "nbformat_minor": 5
}
